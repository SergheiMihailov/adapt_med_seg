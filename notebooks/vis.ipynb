{
 "cells": [
  {
   "cell_type": "code",
   "execution_count": 1,
   "metadata": {},
   "outputs": [],
   "source": [
    "import json\n",
    "from matplotlib import pyplot as plt\n",
    "import numpy as np\n",
    "import sys\n",
    "import os\n"
   ]
  },
  {
   "cell_type": "code",
   "execution_count": 2,
   "metadata": {},
   "outputs": [
    {
     "name": "stdout",
     "output_type": "stream",
     "text": [
      "Mean dice: 0.7290300577878952\n",
      "Mean dice for CT: 0.7290300577878952\n",
      "Mean dice for MRI: nan\n",
      "Mean dice per task: {\n",
      "  \"Bone_Mandible\": 0.14967705309391022,\n",
      "  \"OpticNrv_R\": 0.0691179558634758,\n",
      "  \"OpticChiasm\": 0.02458558790385723,\n",
      "  \"Cavity_Oral\": 0.21483676135540009,\n",
      "  \"Pituitary\": 0.08775091916322708,\n",
      "  \"A_Carotid_L\": 0.12656770646572113,\n",
      "  \"OpticNrv_L\": 0.07770327478647232,\n",
      "  \"Glottis\": 0.09552956372499466,\n",
      "  \"Glnd_Lacrimal_R\": 0.1154964491724968,\n",
      "  \"Arytenoid\": 0.015648556873202324,\n",
      "  \"Eye_AL\": 0.10498164594173431,\n",
      "  \"Glnd_Thyroid\": 0.1774497926235199,\n",
      "  \"Larynx_SG\": 0.1563059240579605,\n",
      "  \"Eye_PR\": 0.17200125753879547,\n",
      "  \"Glnd_Lacrimal_L\": 0.08652845770120621,\n",
      "  \"Glnd_Submand_L\": 0.18272048234939575,\n",
      "  \"SpinalCord\": 0.16099810600280762,\n",
      "  \"Brainstem\": 0.19424384832382202,\n",
      "  \"Parotid_L\": 0.1956326961517334,\n",
      "  \"Glnd_Submand_R\": 0.1694493591785431,\n",
      "  \"Eye_PL\": 0.12368905544281006,\n",
      "  \"Cricopharyngeus\": 0.12954449653625488,\n",
      "  \"Esophagus_S\": 0.13050539791584015,\n",
      "  \"Eye_AR\": 0.11162768304347992,\n",
      "  \"Lips\": 0.1421700119972229,\n",
      "  \"Parotid_R\": 0.18995057046413422,\n",
      "  \"BuccalMucosa\": 0.13545472919940948,\n",
      "  \"Cochlea_L\": 0.04163191094994545,\n",
      "  \"A_Carotid_R\": 0.1558462381362915,\n",
      "  \"Cochlea_R\": 0.0508575476706028,\n",
      "  \"liver\": 0.42940475046634674,\n",
      "  \"tumour\": 0.14588630199432373,\n",
      "  \"pancreas\": 0.20014695823192596\n",
      "}\n"
     ]
    }
   ],
   "source": [
    "data_path = '../results/baseline_dice.json'\n",
    "with open(data_path, 'r') as f:\n",
    "    data = json.load(f)\n",
    "\n",
    "mean_dice = np.mean([ds['dice'] for ds in data.values()])\n",
    "modalities = ['CT', 'MRI']\n",
    "print('Mean dice:', mean_dice)\n",
    "mean_per_modality_dice = {}\n",
    "for modality in modalities:\n",
    "    mean_per_modality_dice[modality] = np.mean([ds['per_modality_dice'].get(modality, np.nan) for ds in data.values()], axis=0)\n",
    "    print(f'Mean dice for {modality}:', mean_per_modality_dice[modality])\n",
    "mean_per_task_dict = {}\n",
    "for ds in data.values():\n",
    "    for task, dice in ds['per_task_dice'].items():\n",
    "        mean_per_task_dict[task] = mean_per_task_dict.get(task, 0) + dice\n",
    "mean_per_task = {task: dice/len(data) for task, dice in mean_per_task_dict.items() if len(data) > 0}\n",
    "print('Mean dice per task:', json.dumps(mean_per_task, indent=2))\n"
   ]
  }
 ],
 "metadata": {
  "kernelspec": {
   "display_name": "SegVol",
   "language": "python",
   "name": "python3"
  },
  "language_info": {
   "codemirror_mode": {
    "name": "ipython",
    "version": 3
   },
   "file_extension": ".py",
   "mimetype": "text/x-python",
   "name": "python",
   "nbconvert_exporter": "python",
   "pygments_lexer": "ipython3",
   "version": "3.10.14"
  }
 },
 "nbformat": 4,
 "nbformat_minor": 2
}
