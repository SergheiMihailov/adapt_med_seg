{
 "cells": [
  {
   "cell_type": "markdown",
   "metadata": {},
   "source": [
    "## SegVol inference"
   ]
  },
  {
   "cell_type": "code",
   "execution_count": 2,
   "metadata": {},
   "outputs": [
    {
     "name": "stderr",
     "output_type": "stream",
     "text": [
      "INFO:adapt_med_seg.pipelines.evaluate:Evaluating segvol_baseline on dataset 0\n",
      "Evaluating CHAOS: 100%|███████████████| 4/4 [00:06<00:00,  1.73s/batch]\n"
     ]
    },
    {
     "name": "stdout",
     "output_type": "stream",
     "text": [
      "Results for segvol_baseline on dataset 0:\n",
      "{'dice': tensor(0.9648, device='cuda:0')}\n",
      "File /gpfs/home4/scur0402/Serghei/adapt_med_seg/datasets/0005.zip created.\n",
      "Downloading https://huggingface.co/datasets/GoodBaiBai88/M3D-Seg/resolve/main/M3D_Seg/0005.zip?download=true to /gpfs/home4/scur0402/Serghei/adapt_med_seg/datasets/0005.zip\n"
     ]
    },
    {
     "name": "stderr",
     "output_type": "stream",
     "text": [
      "61362it [00:01, 36570.20it/s]                                          \n"
     ]
    },
    {
     "name": "stdout",
     "output_type": "stream",
     "text": [
      "Extracting /gpfs/home4/scur0402/Serghei/adapt_med_seg/datasets/0005.zip\n"
     ]
    },
    {
     "name": "stderr",
     "output_type": "stream",
     "text": [
      "INFO:adapt_med_seg.pipelines.evaluate:Evaluating segvol_baseline on dataset 5\n"
     ]
    },
    {
     "name": "stdout",
     "output_type": "stream",
     "text": [
      "Files extracted to /gpfs/home4/scur0402/Serghei/adapt_med_seg/datasets\n",
      "File downloaded and saved as 0005\n"
     ]
    },
    {
     "name": "stderr",
     "output_type": "stream",
     "text": [
      "Evaluating KiPA22: 100%|████████████| 14/14 [00:06<00:00,  2.27batch/s]"
     ]
    },
    {
     "name": "stdout",
     "output_type": "stream",
     "text": [
      "Results for segvol_baseline on dataset 5:\n",
      "{'dice': tensor(0.6402, device='cuda:0')}\n"
     ]
    },
    {
     "name": "stderr",
     "output_type": "stream",
     "text": [
      "\n"
     ]
    }
   ],
   "source": [
    "from adapt_med_seg.pipelines.evaluate import EvaluateArgs, EvaluatePipeline\n",
    "\n",
    "model_names = [\"segvol_baseline\"]\n",
    "dataset_numbers = [0, 5]\n",
    "\n",
    "for model_name in model_names:\n",
    "    for dataset_number in dataset_numbers:\n",
    "        eval_pipeline = EvaluatePipeline(\n",
    "            evaluate_args=EvaluateArgs(\n",
    "                dataset_number=dataset_number,\n",
    "                model_name=model_name,\n",
    "                cls_idx=0,\n",
    "                device='cuda'\n",
    "                # use_wandb=True,\n",
    "            )\n",
    "        )\n",
    "\n",
    "        results = eval_pipeline.run()\n",
    "        print(f'Results for {model_name} on dataset {dataset_number}:\\n{results}')"
   ]
  },
  {
   "cell_type": "code",
   "execution_count": null,
   "metadata": {},
   "outputs": [],
   "source": []
  }
 ],
 "metadata": {
  "kernelspec": {
   "display_name": "Python 3 (ipykernel)",
   "language": "python",
   "name": "python3"
  },
  "language_info": {
   "codemirror_mode": {
    "name": "ipython",
    "version": 3
   },
   "file_extension": ".py",
   "mimetype": "text/x-python",
   "name": "python",
   "nbconvert_exporter": "python",
   "pygments_lexer": "ipython3",
   "version": "3.11.3"
  }
 },
 "nbformat": 4,
 "nbformat_minor": 4
}
