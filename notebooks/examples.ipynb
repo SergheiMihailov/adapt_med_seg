{
 "cells": [
  {
   "cell_type": "markdown",
   "metadata": {},
   "source": [
    "## SegVol inference"
   ]
  },
  {
   "cell_type": "code",
   "execution_count": null,
   "metadata": {},
   "outputs": [],
   "source": [
    "from adapt_med_seg.pipelines.evaluate import EvaluateArgs, EvaluatePipeline"
   ]
  },
  {
   "cell_type": "code",
   "execution_count": null,
   "metadata": {},
   "outputs": [],
   "source": [
    "\n",
    "model_names = [\"segvol_baseline\"]\n",
    "dataset_paths = [\"../datasets/chaos_000\"] # assuming notebooks/preprocess_data.ipynb has been run \n",
    "modality_lists = [[\"CT\"], [\"MR\"]]\n",
    "\n",
    "for model_name in model_names:\n",
    "    for modalities in modality_lists:\n",
    "        for dataset_path in dataset_paths:\n",
    "            eval_pipeline = EvaluatePipeline(\n",
    "                evaluate_args=EvaluateArgs(\n",
    "                    dataset_path=dataset_path,\n",
    "                    model_name=model_name,\n",
    "                    cls_idx=0,\n",
    "                    device='cuda',\n",
    "                    modalities=modalities, # we look at each modality separately\n",
    "                    # use_wandb=True,\n",
    "                )\n",
    "            )\n",
    "\n",
    "            results = eval_pipeline.run()\n",
    "            print(f'Results for {model_name} and modality {modalities[0]} on dataset {dataset_path}:\\n{results}')"
   ]
  }
 ],
 "metadata": {
  "kernelspec": {
   "display_name": "Python 3 (ipykernel)",
   "language": "python",
   "name": "python3"
  },
  "language_info": {
   "codemirror_mode": {
    "name": "ipython",
    "version": 3
   },
   "file_extension": ".py",
   "mimetype": "text/x-python",
   "name": "python",
   "nbconvert_exporter": "python",
   "pygments_lexer": "ipython3",
   "version": "3.10.14"
  }
 },
 "nbformat": 4,
 "nbformat_minor": 4
}
