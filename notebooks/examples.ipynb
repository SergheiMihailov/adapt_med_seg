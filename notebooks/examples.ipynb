{
 "cells": [
  {
   "cell_type": "markdown",
   "metadata": {},
   "source": [
    "## SegVol inference"
   ]
  },
  {
   "cell_type": "code",
   "execution_count": 1,
   "metadata": {},
   "outputs": [
    {
     "name": "stderr",
     "output_type": "stream",
     "text": [
      "/Users/serghei/code/uva-ai-msc/dl2/adapt_med_seg/.venv/lib/python3.10/site-packages/tqdm/auto.py:21: TqdmWarning: IProgress not found. Please update jupyter and ipywidgets. See https://ipywidgets.readthedocs.io/en/stable/user_install.html\n",
      "  from .autonotebook import tqdm as notebook_tqdm\n",
      "/Users/serghei/code/uva-ai-msc/dl2/adapt_med_seg/.venv/lib/python3.10/site-packages/huggingface_hub/file_download.py:1132: FutureWarning: `resume_download` is deprecated and will be removed in version 1.0.0. Downloads always resume when possible. If you want to force a new download, use `force_download=True`.\n",
      "  warnings.warn(\n",
      "INFO:adapt_med_seg.pipelines.evaluate:Evaluating segvol_baseline on dataset 0\n",
      "Evaluating CHAOS: 100%|██████████| 4/4 [06:09<00:00, 92.33s/batch] "
     ]
    },
    {
     "name": "stdout",
     "output_type": "stream",
     "text": [
      "Results for segvol_baseline on dataset 0:\n",
      "{'dice': tensor(0.9622)}\n"
     ]
    },
    {
     "name": "stderr",
     "output_type": "stream",
     "text": [
      "\n"
     ]
    }
   ],
   "source": [
    "from adapt_med_seg.pipelines.evaluate import EvaluateArgs, EvaluatePipeline\n",
    "\n",
    "model_names = [\"segvol_baseline\"]\n",
    "dataset_numbers = [0]\n",
    "\n",
    "for model_name in model_names:\n",
    "    for dataset_number in dataset_numbers:\n",
    "        eval_pipeline = EvaluatePipeline(\n",
    "            evaluate_args=EvaluateArgs(\n",
    "                dataset_number=dataset_number,\n",
    "                model_name=model_name,\n",
    "                cls_idx=0,\n",
    "                device='cpu'\n",
    "                # use_wandb=True,\n",
    "            )\n",
    "        )\n",
    "\n",
    "        results = eval_pipeline.run()\n",
    "        print(f'Results for {model_name} on dataset {dataset_number}:\\n{results}')"
   ]
  }
 ],
 "metadata": {
  "kernelspec": {
   "display_name": "Python 3 (ipykernel)",
   "language": "python",
   "name": "python3"
  },
  "language_info": {
   "codemirror_mode": {
    "name": "ipython",
    "version": 3
   },
   "file_extension": ".py",
   "mimetype": "text/x-python",
   "name": "python",
   "nbconvert_exporter": "python",
   "pygments_lexer": "ipython3",
   "version": "3.10.13"
  }
 },
 "nbformat": 4,
 "nbformat_minor": 4
}
