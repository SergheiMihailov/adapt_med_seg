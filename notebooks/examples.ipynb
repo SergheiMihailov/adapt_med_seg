{
 "cells": [
  {
   "cell_type": "markdown",
   "metadata": {},
   "source": [
    "## SegVol inference"
   ]
  },
  {
   "cell_type": "code",
   "execution_count": 1,
   "metadata": {},
   "outputs": [
    {
     "name": "stderr",
     "output_type": "stream",
     "text": [
      "/Users/hamarmiklos/anaconda3/envs/SegVol/lib/python3.10/site-packages/tqdm/auto.py:21: TqdmWarning: IProgress not found. Please update jupyter and ipywidgets. See https://ipywidgets.readthedocs.io/en/stable/user_install.html\n",
      "  from .autonotebook import tqdm as notebook_tqdm\n"
     ]
    }
   ],
   "source": [
    "# import sys\n",
    "# sys.path.append('..')\n",
    "# import importlib\n",
    "# import adapt_med_seg.pipelines.evaluate as ev\n",
    "# importlib.reload(ev)\n",
    "# EvaluateArgs = ev.EvaluateArgs\n",
    "# EvaluatePipeline = ev.EvaluatePipeline"
   ]
  },
  {
   "cell_type": "code",
   "execution_count": null,
   "metadata": {},
   "outputs": [],
   "source": [
    "from adapt_med_seg.pipelines.evaluate import EvaluateArgs, EvaluatePipeline"
   ]
  },
  {
   "cell_type": "code",
   "execution_count": 2,
   "metadata": {},
   "outputs": [
    {
     "name": "stderr",
     "output_type": "stream",
     "text": [
      "/Users/hamarmiklos/anaconda3/envs/SegVol/lib/python3.10/site-packages/monai/utils/deprecate_utils.py:221: FutureWarning: monai.networks.nets.vit ViT.__init__:pos_embed: Argument `pos_embed` has been deprecated since version 1.2. It will be removed in version 1.4. please use `proj_type` instead.\n",
      "  warn_deprecated(argname, msg, warning_category)\n",
      "/Users/hamarmiklos/anaconda3/envs/SegVol/lib/python3.10/site-packages/monai/utils/deprecate_utils.py:321: FutureWarning: monai.transforms.croppad.dictionary CropForegroundd.__init__:allow_smaller: Current default value of argument `allow_smaller=True` has been deprecated since version 1.2. It will be changed to `allow_smaller=False` in version 1.5.\n",
      "  warn_deprecated(argname, msg, warning_category)\n",
      "/Users/hamarmiklos/anaconda3/envs/SegVol/lib/python3.10/site-packages/huggingface_hub/file_download.py:1132: FutureWarning: `resume_download` is deprecated and will be removed in version 1.0.0. Downloads always resume when possible. If you want to force a new download, use `force_download=True`.\n",
      "  warnings.warn(\n",
      "INFO:adapt_med_seg.pipelines.evaluate:Evaluating segvol_baseline on dataset chaos001\n",
      "Evaluating CHAOS: 100%|██████████| 8/8 [23:54<00:00, 179.29s/batch]\n"
     ]
    },
    {
     "name": "stdout",
     "output_type": "stream",
     "text": [
      "Results for segvol_baseline and modality CT on dataset ../datasets/chaos001:\n",
      "{'dice': metatensor(0.9680)}\n"
     ]
    },
    {
     "name": "stderr",
     "output_type": "stream",
     "text": [
      "INFO:adapt_med_seg.pipelines.evaluate:Evaluating segvol_baseline on dataset chaos001\n",
      "Evaluating CHAOS: 100%|██████████| 24/24 [07:45<00:00, 19.41s/batch]"
     ]
    },
    {
     "name": "stdout",
     "output_type": "stream",
     "text": [
      "Results for segvol_baseline and modality MRI on dataset ../datasets/chaos001:\n",
      "{'dice': metatensor(0.6385)}\n"
     ]
    },
    {
     "name": "stderr",
     "output_type": "stream",
     "text": [
      "\n"
     ]
    }
   ],
   "source": [
    "\n",
    "model_names = [\"segvol_baseline\"]\n",
    "dataset_paths = [\"../datasets/chaos001\"] # assuming notebooks/preprocess_data.ipynb has been run \n",
    "modality_lists = [[\"CT\"], [\"MRI\"]]\n",
    "\n",
    "for model_name in model_names:\n",
    "    for modalities in modality_lists:\n",
    "        for dataset_path in dataset_paths:\n",
    "            eval_pipeline = EvaluatePipeline(\n",
    "                evaluate_args=EvaluateArgs(\n",
    "                    dataset_path=dataset_path,\n",
    "                    model_name=model_name,\n",
    "                    cls_idx=0,\n",
    "                    device='cpu',\n",
    "                    modalities=modalities, # we look at each modality separately\n",
    "                    # use_wandb=True,\n",
    "                )\n",
    "            )\n",
    "\n",
    "            results = eval_pipeline.run()\n",
    "            print(f'Results for {model_name} and modality {modalities[0]} on dataset {dataset_path}:\\n{results}')"
   ]
  }
 ],
 "metadata": {
  "kernelspec": {
   "display_name": "Python 3 (ipykernel)",
   "language": "python",
   "name": "python3"
  },
  "language_info": {
   "codemirror_mode": {
    "name": "ipython",
    "version": 3
   },
   "file_extension": ".py",
   "mimetype": "text/x-python",
   "name": "python",
   "nbconvert_exporter": "python",
   "pygments_lexer": "ipython3",
   "version": "3.10.14"
  }
 },
 "nbformat": 4,
 "nbformat_minor": 4
}
