{
 "cells": [
  {
   "cell_type": "code",
   "execution_count": 12,
   "metadata": {},
   "outputs": [],
   "source": [
    "%%capture\n",
    "%pip install seaborn"
   ]
  },
  {
   "cell_type": "code",
   "execution_count": 13,
   "metadata": {},
   "outputs": [],
   "source": [
    "from collections import defaultdict\n",
    "import logging\n",
    "logging.basicConfig(level=logging.INFO)\n",
    "\n",
    "import matplotlib.pyplot as plt\n",
    "import numpy as np\n",
    "import json\n",
    "import seaborn as sns"
   ]
  },
  {
   "cell_type": "code",
   "execution_count": 14,
   "metadata": {},
   "outputs": [],
   "source": [
    "def load_single_results(data_path):\n",
    "    with open(data_path, 'r') as f:\n",
    "        data = json.load(f)\n",
    "    return data"
   ]
  },
  {
   "cell_type": "code",
   "execution_count": 15,
   "metadata": {},
   "outputs": [],
   "source": [
    "\n",
    "\n",
    "def get_dice_for_keys(dices: dict, counts: dict,\n",
    "                      datasets:list = 'all', modalities:list = 'all', tasks:list = 'all'):\n",
    "    # both dices and counts are nested dictionaries:\n",
    "    # dataset -> modality -> task : dice score / count of samples found\n",
    "    datasets = [data.lower() for data in datasets] if datasets != 'all' else datasets\n",
    "    modalities = [mod.lower() for mod in modalities] if modalities != 'all' else modalities\n",
    "    tasks = [task.lower() for task in tasks] if tasks != 'all' else tasks\n",
    "    all_levels = []\n",
    "    data_level = defaultdict(list)\n",
    "    modality_level = defaultdict(list)\n",
    "    task_level = defaultdict(list)\n",
    "    for data_key, mod_data in dices.items():\n",
    "        for modality, task_data in mod_data.items():\n",
    "            for task, dice in task_data.items():\n",
    "                if ((datasets == 'all' or data_key in datasets) and\n",
    "                    (modalities == 'all' or modality in modalities) and\n",
    "                    (tasks == 'all' or task.lower() in tasks)):\n",
    "                    dice_score = dice\n",
    "                    count = counts[data_key][modality][task]\n",
    "                    logging.debug('using info from dataset {} modality {} task {}: dice {} count {}'.format(data_key, modality, task, dice_score, count))\n",
    "                    all_levels.append((dice_score, count))\n",
    "                    data_level[data_key].append((dice_score, count))\n",
    "                    modality_level[modality].append((dice_score, count))\n",
    "                    task_level[task].append((dice_score, count))\n",
    "    return all_levels, data_level, modality_level, task_level\n",
    "\n",
    "def compute_avg_dice(dice_count_list: list[tuple]):\n",
    "    total_dice = 0\n",
    "    total_count = 0\n",
    "    for dice, count in dice_count_list:\n",
    "        total_dice += dice * count\n",
    "        total_count += count\n",
    "    return total_dice / total_count"
   ]
  },
  {
   "cell_type": "code",
   "execution_count": 16,
   "metadata": {},
   "outputs": [
    {
     "name": "stdout",
     "output_type": "stream",
     "text": [
      "average dice for all levels:  0.20720262315052634\n",
      "average dice for dataset chaos_mrct_42_1: 0.20720262315052634\n",
      "average dice for modality CT: 0.32119057575861615\n",
      "average dice for modality MRI: 0.1730062373680994\n",
      "average dice for task spleen: 0.02570357918739319\n",
      "average dice for task right kidney: 0.014934579531351725\n",
      "average dice for task Liver: 0.4325263053178787\n",
      "average dice for task Left kidney: 0.0011326860403642058\n",
      "______________________________________________________________________\n"
     ]
    }
   ],
   "source": [
    "# DEMO\n",
    "data_path = 'results_12.json'\n",
    "data = load_single_results(data_path)['12']\n",
    "\n",
    "all_levels, data_level, modality_level, task_level = get_dice_for_keys(\n",
    "    data['per_dataset_modality_task_dice'], data['per_dataset_modality_task_counts'])\n",
    "print('average dice for all levels: ', compute_avg_dice(all_levels))\n",
    "for dataset, dices in data_level.items():\n",
    "    print('average dice for dataset {}: {}'.format(dataset, compute_avg_dice(dices)))\n",
    "for modality, dices in modality_level.items():\n",
    "    print('average dice for modality {}: {}'.format(modality, compute_avg_dice(dices)))\n",
    "for task, dices in task_level.items():\n",
    "    print('average dice for task {}: {}'.format(task, compute_avg_dice(dices)))\n",
    "print('______________________________________________________________________')\n"
   ]
  },
  {
   "cell_type": "code",
   "execution_count": 18,
   "metadata": {},
   "outputs": [
    {
     "name": "stdout",
     "output_type": "stream",
     "text": [
      "Baseline Dice scores\n",
      "dice: 0.6295535446077153\n",
      "\n",
      "dataset 0000 Dataset: 0.9618050456047058\n",
      "dataset 0001 Dataset: 0.583496676882108\n",
      "dataset 0020 Dataset: 0.7776888310909271\n",
      "dataset 0008 Dataset: 0.8123207688331604\n",
      "\n",
      "modality CT: 0.6295535446077153\n",
      "\n",
      "task liver: 0.9549267368931924\n",
      "task OpticChiasm: 0.1755075752735138\n",
      "task Parotid_R: 0.7951778769493103\n",
      "task Lips: 0.6662173271179199\n",
      "task BuccalMucosa: 0.6360491514205933\n",
      "task Glnd_Lacrimal_R: 0.4904055595397949\n",
      "task Cricopharyngeus: 0.5694500803947449\n",
      "task Bone_Mandible: 0.9151379466056824\n",
      "task Esophagus_S: 0.6004030108451843\n",
      "task Eye_PR: 0.8163533806800842\n",
      "task Arytenoid: 0.132841095328331\n",
      "task Glnd_Lacrimal_L: 0.3634571433067322\n",
      "task OpticNrv_R: 0.3447383642196655\n",
      "task Cochlea_L: 0.2100144475698471\n",
      "task Eye_AR: 0.5127241611480713\n",
      "task Glnd_Submand_L: 0.7903439402580261\n",
      "task Glnd_Thyroid: 0.7892332077026367\n",
      "task Larynx_SG: 0.6949116587638855\n",
      "task Cavity_Oral: 0.8654983043670654\n",
      "task Cochlea_R: 0.26442086696624756\n",
      "task Glottis: 0.452264666557312\n",
      "task Parotid_L: 0.8029846549034119\n",
      "task SpinalCord: 0.7335789799690247\n",
      "task Brainstem: 0.7861984372138977\n",
      "task A_Carotid_R: 0.6437634229660034\n",
      "task Glnd_Submand_R: 0.7955659031867981\n",
      "task OpticNrv_L: 0.35605838894844055\n",
      "task A_Carotid_L: 0.5797488689422607\n",
      "task Eye_AL: 0.4782680869102478\n",
      "task Pituitary: 0.47114264965057373\n",
      "task Eye_PL: 0.7724411487579346\n",
      "task tumour: 0.6014699339866638\n",
      "task pancreas: 0.8123207688331604\n"
     ]
    }
   ],
   "source": [
    "# BASELINE RESULTS\n",
    "data_path = '../results/results_baseline.json'\n",
    "baseline_data = load_single_results(data_path)\n",
    "\n",
    "all_levels, data_level, modality_level, task_level = get_dice_for_keys(\n",
    "    baseline_data['per_dataset_modality_task_dice'], baseline_data['per_dataset_modality_task_counts'])\n",
    "\n",
    "print('Baseline Dice scores')\n",
    "print('dice:', compute_avg_dice(all_levels))\n",
    "print()\n",
    "for dataset, dices in data_level.items():\n",
    "    print('dataset {}: {}'.format(dataset, compute_avg_dice(dices)))\n",
    "print()\n",
    "for modality, dices in modality_level.items():\n",
    "    print('modality {}: {}'.format(modality, compute_avg_dice(dices)))\n",
    "print()\n",
    "for task, dices in task_level.items():\n",
    "    print('task {}: {}'.format(task, compute_avg_dice(dices)))"
   ]
  }
 ],
 "metadata": {
  "kernelspec": {
   "display_name": "SegVol",
   "language": "python",
   "name": "python3"
  },
  "language_info": {
   "codemirror_mode": {
    "name": "ipython",
    "version": 3
   },
   "file_extension": ".py",
   "mimetype": "text/x-python",
   "name": "python",
   "nbconvert_exporter": "python",
   "pygments_lexer": "ipython3",
   "version": "3.10.14"
  }
 },
 "nbformat": 4,
 "nbformat_minor": 2
}
