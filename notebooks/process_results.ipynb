{
 "cells": [
  {
   "cell_type": "code",
   "execution_count": 13,
   "metadata": {},
   "outputs": [],
   "source": [
    "%%capture\n",
    "%pip install seaborn"
   ]
  },
  {
   "cell_type": "code",
   "execution_count": 14,
   "metadata": {},
   "outputs": [],
   "source": [
    "from collections import defaultdict\n",
    "\n",
    "import matplotlib.pyplot as plt\n",
    "import numpy as np\n",
    "import json\n",
    "import seaborn as sns"
   ]
  },
  {
   "cell_type": "code",
   "execution_count": 15,
   "metadata": {},
   "outputs": [],
   "source": [
    "def load_single_results(data_path):\n",
    "    with open(data_path, 'r') as f:\n",
    "        data = json.load(f)\n",
    "    return data"
   ]
  },
  {
   "cell_type": "code",
   "execution_count": 16,
   "metadata": {},
   "outputs": [],
   "source": [
    "\n",
    "\n",
    "def get_dice_for_keys(dices: dict, counts: dict,\n",
    "                      datasets:list = 'all', modalities:list = 'all', tasks:list = 'all'):\n",
    "    # both dices and counts are nested dictionaries:\n",
    "    # dataset -> modality -> task : dice score / count of samples found\n",
    "    all_levels = []\n",
    "    data_level = defaultdict(list)\n",
    "    modality_level = defaultdict(list)\n",
    "    task_level = defaultdict(list)\n",
    "    for data_key, mod_data in dices.items():\n",
    "        for modality, task_data in mod_data.items():\n",
    "            for task, dice in task_data.items():\n",
    "                if ((datasets == 'all' or data_key in datasets) and\n",
    "                    (modalities == 'all' or modality in modalities) and\n",
    "                    (tasks == 'all' or task in tasks)):\n",
    "                    dice_score = dice\n",
    "                    count = counts[data_key][modality][task]\n",
    "                    print('using info from dataset {} modality {} task {}: dice {} count {}'.format(data_key, modality, task, dice_score, count))\n",
    "                    all_levels.append((dice_score, count))\n",
    "                    data_level[data_key].append((dice_score, count))\n",
    "                    modality_level[modality].append((dice_score, count))\n",
    "                    task_level[task].append((dice_score, count))\n",
    "    return all_levels, data_level, modality_level, task_level\n",
    "\n",
    "def compute_avg_dice(dice_count_list: list[tuple]):\n",
    "    total_dice = 0\n",
    "    total_count = 0\n",
    "    for dice, count in dice_count_list:\n",
    "        total_dice += dice * count\n",
    "        total_count += count\n",
    "    return total_dice / total_count"
   ]
  },
  {
   "cell_type": "code",
   "execution_count": 18,
   "metadata": {},
   "outputs": [
    {
     "name": "stdout",
     "output_type": "stream",
     "text": [
      "using info from dataset chaos_mrct_42_1 modality CT task spleen: dice 0.0 count 1\n",
      "using info from dataset chaos_mrct_42_1 modality CT task right kidney: dice 0.0 count 1\n",
      "using info from dataset chaos_mrct_42_1 modality CT task Liver: dice 0.9635717272758484 count 1\n",
      "using info from dataset chaos_mrct_42_1 modality MRI task Left kidney: dice 0.0011326860403642058 count 2\n",
      "using info from dataset chaos_mrct_42_1 modality MRI task Liver: dice 0.3263172209262848 count 5\n",
      "using info from dataset chaos_mrct_42_1 modality MRI task right kidney: dice 0.022401869297027588 count 2\n",
      "using info from dataset chaos_mrct_42_1 modality MRI task spleen: dice 0.05140715837478638 count 1\n",
      "average dice for all levels:  0.20720262315052634\n",
      "average dice for dataset chaos_mrct_42_1: 0.20720262315052634\n",
      "average dice for modality CT: 0.32119057575861615\n",
      "average dice for modality MRI: 0.1730062373680994\n",
      "average dice for task spleen: 0.02570357918739319\n",
      "average dice for task right kidney: 0.014934579531351725\n",
      "average dice for task Liver: 0.4325263053178787\n",
      "average dice for task Left kidney: 0.0011326860403642058\n"
     ]
    },
    {
     "data": {
      "image/png": "[encoded data removed]",
      "text/plain": [
       "<Figure size 640x480 with 1 Axes>"
      ]
     },
     "metadata": {},
     "output_type": "display_data"
    }
   ],
   "source": [
    "data_path = 'results_12.json'\n",
    "data = load_single_results(data_path)['12']\n",
    "\n",
    "all_levels, data_level, modality_level, task_level = get_dice_for_keys(\n",
    "    data['per_dataset_modality_task_dice'], data['per_dataset_modality_task_counts'])\n",
    "print('average dice for all levels: ', compute_avg_dice(all_levels))\n",
    "for dataset, dices in data_level.items():\n",
    "    print('average dice for dataset {}: {}'.format(dataset, compute_avg_dice(dices)))\n",
    "for modality, dices in modality_level.items():\n",
    "    print('average dice for modality {}: {}'.format(modality, compute_avg_dice(dices)))\n",
    "for task, dices in task_level.items():\n",
    "    print('average dice for task {}: {}'.format(task, compute_avg_dice(dices)))\n",
    "\n",
    "sns.histplot(all_levels, bins=20)\n",
    "plt.show()"
   ]
  }
 ],
 "metadata": {
  "kernelspec": {
   "display_name": "SegVol",
   "language": "python",
   "name": "python3"
  },
  "language_info": {
   "codemirror_mode": {
    "name": "ipython",
    "version": 3
   },
   "file_extension": ".py",
   "mimetype": "text/x-python",
   "name": "python",
   "nbconvert_exporter": "python",
   "pygments_lexer": "ipython3",
   "version": "3.10.14"
  }
 },
 "nbformat": 4,
 "nbformat_minor": 2
}
