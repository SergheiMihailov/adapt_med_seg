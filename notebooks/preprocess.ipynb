{
 "cells": [
  {
   "cell_type": "markdown",
   "metadata": {},
   "source": [
    "# Pre-processing"
   ]
  },
  {
   "cell_type": "code",
   "execution_count": null,
   "metadata": {},
   "outputs": [],
   "source": [
    "from preprocessing import run as run_preprocessor\n",
    "from argparse import Namespace\n"
   ]
  },
  {
   "cell_type": "code",
   "execution_count": null,
   "metadata": {},
   "outputs": [],
   "source": [
    "# download the CHAOS dataset\n",
    "data_dir = '../datasets'\n",
    "wget_command = f'wget -P {data_dir} https://zenodo.org/records/3431873/files/CHAOS_Train_Sets.zip'\n",
    "unzip_command = f'unzip {data_dir}/CHAOS_Train_Sets.zip -d {data_dir}'\n",
    "delete_command = f'rm {data_dir}/CHAOS_Train_Sets.zip'\n",
    "!$wget_command\n",
    "!$unzip_command\n",
    "!$delete_command"
   ]
  },
  {
   "cell_type": "code",
   "execution_count": null,
   "metadata": {},
   "outputs": [],
   "source": [
    "args = Namespace(\n",
    "    classes=['liver', 'right kidney', 'left kidney', 'spleen'],\n",
    "    dataset_root='../datasets/Train_Sets',\n",
    "    dataset_code='chaos_000',\n",
    "    save_root='datasets/',\n",
    "    num_workers=4,\n",
    "    test_ratio=0.2,\n",
    "    val_ratio=0.1,\n",
    "    seed=42,\n",
    "    dataset_type='CHAOS'\n",
    ")\n",
    "run_preprocessor(args)"
   ]
  }
 ],
 "metadata": {
  "kernelspec": {
   "display_name": "SegVol",
   "language": "python",
   "name": "python3"
  },
  "language_info": {
   "codemirror_mode": {
    "name": "ipython",
    "version": 3
   },
   "file_extension": ".py",
   "mimetype": "text/x-python",
   "name": "python",
   "nbconvert_exporter": "python",
   "pygments_lexer": "ipython3",
   "version": "3.10.14"
  }
 },
 "nbformat": 4,
 "nbformat_minor": 2
}
